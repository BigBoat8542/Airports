{
  "nbformat": 4,
  "nbformat_minor": 0,
  "metadata": {
    "colab": {
      "name": "Airport",
      "provenance": [],
      "authorship_tag": "ABX9TyO8P+rDLseGVIJJldyp7QTS",
      "include_colab_link": true
    },
    "kernelspec": {
      "name": "python3",
      "display_name": "Python 3"
    },
    "language_info": {
      "name": "python"
    }
  },
  "cells": [
    {
      "cell_type": "markdown",
      "metadata": {
        "id": "view-in-github",
        "colab_type": "text"
      },
      "source": [
        "<a href=\"https://colab.research.google.com/github/BigBoat8542/Airports/blob/main/Airport.ipynb\" target=\"_parent\"><img src=\"https://colab.research.google.com/assets/colab-badge.svg\" alt=\"Open In Colab\"/></a>"
      ]
    },
    {
      "cell_type": "code",
      "metadata": {
        "id": "n3e9utltVqdc"
      },
      "source": [
        "# Luke Watson-Sharer\n",
        "# Assignment 4\n",
        "# https://openflights.org/data.html"
      ],
      "execution_count": null,
      "outputs": []
    },
    {
      "cell_type": "code",
      "metadata": {
        "id": "gLlkmKQRXMLu"
      },
      "source": [
        "# Upload local script to Colab here.\n",
        "from google.colab import files\n",
        "uploaded = files.upload()"
      ],
      "execution_count": null,
      "outputs": []
    },
    {
      "cell_type": "code",
      "metadata": {
        "id": "f0oxPZNoXNBu"
      },
      "source": [
        "import csv\n",
        "f=open(\"Camp_stats.csv\")\n",
        "for row in csv.reader(f):\n",
        "    print(row)"
      ],
      "execution_count": null,
      "outputs": []
    },
    {
      "cell_type": "code",
      "metadata": {
        "id": "axUUWmvRXUq1"
      },
      "source": [
        "#add code, print airports for australia, airport name in second row\n",
        "def airports(country):\n",
        "  import csv\n",
        "  f = open(\"airports.dat\")\n",
        "  for row in csv.reader(f):\n",
        "    if row[3] == country:\n",
        "      print(row[1])"
      ],
      "execution_count": null,
      "outputs": []
    },
    {
      "cell_type": "code",
      "metadata": {
        "id": "J6NZpoFyZoef"
      },
      "source": [
        "#1. Read the airports file (airports.dat) and build a dictionary mapping the unique airport ID to the geographical coordinates (latitude & longitude.) \n",
        "#This allows you to look up the location of each airport by its ID.\n",
        "#2. Read the routes file (routes.dat) and get the IDs of the source and destination airports. Look up the latitude \n",
        "#and longitude based on the ID. Using those coordinates, calculate the length of the route and append it to a list of all route lengths.\n",
        "#3. Plot a histogram based on the route lengths, to show the distribution of different flight distances."
      ],
      "execution_count": null,
      "outputs": []
    },
    {
      "cell_type": "code",
      "metadata": {
        "id": "6-4ZM0RDZ0Oy"
      },
      "source": [
        "#Write code to read through “airports.dat” and create a dictionary mapping from an airport ID key \n",
        "#(use the numeric ID in the first field) to the geographic coordinates. You may want to create two dictionaries, one holding latitudes and one holding longitudes.\n",
        "\n",
        "long = {}\n",
        "lat = {}\n",
        "\n",
        "def longitude():\n",
        "  import csv\n",
        "  f = open(\"airports.dat\")\n",
        "  for row in csv.reader(f):\n",
        "    long[row[5]] = row[7]\n",
        "  return long\n",
        "\n",
        "def latitude():\n",
        "  import csv\n",
        "  f = open(\"airports.dat\")\n",
        "  for row in csv.reader(f):\n",
        "    lat[row[5]] = row[6]\n",
        "  return lat\n",
        "\n",
        "#Look back at the OpenFlights data page to see the fields available in the airports.dat file. \n",
        "#Hint: I ended up having to look at a copy of their data in their Github repo."
      ],
      "execution_count": null,
      "outputs": []
    },
    {
      "cell_type": "code",
      "metadata": {
        "id": "F8bxjC8kaJLU"
      },
      "source": [
        "# # Code to import and check the geo_distance.py file to make sure it works.\n",
        "geo_distance.distance(-37.814,144.963,52.519,13.406) # Melbourne to Berlin in km!\n",
        "\n",
        "# Copy of geo_distance.py\n",
        "# Using the Haversine formula for geographic Great Circle Distance\n",
        "# As per https://en.wikipedia.org/wiki/Haversine_formula\n",
        "\n",
        "from math import cos,radians,sin,pow,asin,sqrt\n",
        "\n",
        "def distance(lat1, long1, lat2, long2):\n",
        "  radius = 6371 # radius of the earth in km, roughly https://en.wikipedia.org/wiki/Earth_radius\n",
        "  # Lat,long are in degrees but we need radians\n",
        "  lat1 = radians(lat1)\n",
        "  lat2 = radians(lat2)\n",
        "  long1 = radians(long1)\n",
        "  long2 = radians(long2)\n",
        "\n",
        "  dlat = lat2-lat1\n",
        "  dlon = long2-long1\n",
        "\n",
        "  a = pow(sin(dlat/2),2) + cos(lat1)*cos(lat2)*pow(sin(dlon/2),2)\n",
        "  distance = 2 * radius * asin(sqrt(a))\n",
        "\n",
        "  return distance\n",
        "\n",
        "  #NEXT write a program that reads all the airline routes from “routes.dat”, \n",
        "  #looks up the latitude and longitude of the source and destination airports, and builds a list of route distances?\n",
        "\n",
        "\n",
        "distance_flight = []\n",
        "r = open(\"routes.dat\")\n",
        "for row in csv.reader(r):\n",
        "    source = row[3]\n",
        "    destination = row[5]\n",
        "    if source in lat and destination in lat:\n",
        "      destination_latitude = latitude[destinations]\n",
        "      destination_longitude = longitude[destinations]\n",
        "      source_latitude = latitude[source]\n",
        "      source_longitude = longitude[source]\n",
        "      distance_flight.append(source_latitude, source_longitude, destination_latitude, destination_longitude) \n"
      ],
      "execution_count": null,
      "outputs": []
    },
    {
      "cell_type": "code",
      "metadata": {
        "id": "tbTTjm6MbQb2"
      },
      "source": [
        "import module_name as another_name\n",
        "import numpy as np\n",
        "import matplotlib.pyplot as plt\n",
        "\n",
        "plt.hist(distance_flight, 100, facecolor = 'r' )\n",
        "plt.xlabel(\"Distance\")\n",
        "plt.ylabel(\"Total Flights\")\n",
        "\n",
        "#The first argument you supply will be the dataset (list of distances). \n",
        "#The second argument (try starting with 100) is the number of bins to divide the histogram into. You can increase this number to see more distinct bars and a more detailed picture, or reduce it to see a coarser picture. Try setting it to some other values and see what happens to the histogram plot. \n",
        "#The third argument, facecolor, sets the color of the graph, “r” for red.\n",
        "\n",
        "# How it was solved:\n",
        "# This problem was first solved after downloading the datasets, and first uploading them into colab. Afterwards, I approached challenge 1, this was fairly simple, all that was needed was to specify the column index to the country which gives me the country I want to return, and then airport name in the second row which helps indicate the order I want them returned in for a function. Challenge 2 was completed by first creating empt dictionaryies so we can store the data. Then I take the values in the column field for the ID, and match them using 2 different functions on for latitude and logtitude. It would be curious to try and see if there were other ways to complete this goal as well. Then, I followed it up by first testing the distance formula, which worked. Then the program asked for reading in the routes, so I did that, and created a list object that can store the distances. I set the  source to the original aiport and then destination to the airport you would arrive in. Then, by saying if the original airport, is found in our latitude function, and the same for destination, we can see all instances where a flight from this country going to X place exists. Then  by setting objects = to the functions of the objects created before the if statement, you can say that the I want the logntitude and latitude for the destination and the source. That way, we have built the values through a lookup, and now need to add that to the list, which I used an append function for. There are likely dozens of other ways this could be solved, but I enjoyed this heavily."
      ],
      "execution_count": null,
      "outputs": []
    }
  ]
}